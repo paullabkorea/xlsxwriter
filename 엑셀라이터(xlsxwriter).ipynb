{
  "nbformat": 4,
  "nbformat_minor": 0,
  "metadata": {
    "colab": {
      "name": "엑셀라이터(xlsxwriter).ipynb",
      "provenance": [],
      "collapsed_sections": []
    },
    "kernelspec": {
      "name": "python3",
      "display_name": "Python 3"
    },
    "language_info": {
      "name": "python"
    }
  },
  "cells": [
    {
      "cell_type": "markdown",
      "metadata": {
        "id": "HVEKKXtiFzrx"
      },
      "source": [
        "## xlsxwriter"
      ]
    },
    {
      "cell_type": "markdown",
      "metadata": {
        "id": "ymytP43aiFz9"
      },
      "source": [
        "* 해당 강의는 인프런의 **[Python 엑셀 프로그래밍 - with xlsxwriter](https://inf.run/Vqew)**(https://inf.run/Vqew) 강의에 공개용 요약강좌입니다.\n",
        "* 엑셀 차트, 이미지 삽입, 한글파일 -> DataFrame 변환을 통한 데이터 분석 등은 요약강좌에서 다루지 않습니다.\n",
        "* 무료책인 **인공지능을 활용한 업무자동화 책(2021 Version [Notion](https://paullabworkspace.notion.site/2021-6192ed4219fc4e7a96e10b22cfa27c80))**을 활용하면 좀 더 활용성이 극대화된 코딩이 가능합니다.(크롤링, 워드파일 크롤링, PDF크롤링, 문자 보내기 등)"
      ]
    },
    {
      "cell_type": "code",
      "metadata": {
        "colab": {
          "base_uri": "https://localhost:8080/"
        },
        "id": "wFT59xkFAK7l",
        "outputId": "6022a8d3-ce22-404c-a8de-12380e1df5b4"
      },
      "source": [
        "!pip3 install xlsxwriter"
      ],
      "execution_count": null,
      "outputs": [
        {
          "output_type": "stream",
          "text": [
            "Collecting xlsxwriter\n",
            "  Downloading XlsxWriter-1.4.4-py2.py3-none-any.whl (149 kB)\n",
            "\u001b[?25l\r\u001b[K     |██▏                             | 10 kB 23.6 MB/s eta 0:00:01\r\u001b[K     |████▍                           | 20 kB 19.8 MB/s eta 0:00:01\r\u001b[K     |██████▋                         | 30 kB 14.3 MB/s eta 0:00:01\r\u001b[K     |████████▊                       | 40 kB 11.2 MB/s eta 0:00:01\r\u001b[K     |███████████                     | 51 kB 7.5 MB/s eta 0:00:01\r\u001b[K     |█████████████▏                  | 61 kB 7.8 MB/s eta 0:00:01\r\u001b[K     |███████████████▎                | 71 kB 7.9 MB/s eta 0:00:01\r\u001b[K     |█████████████████▌              | 81 kB 8.3 MB/s eta 0:00:01\r\u001b[K     |███████████████████▊            | 92 kB 8.9 MB/s eta 0:00:01\r\u001b[K     |██████████████████████          | 102 kB 7.0 MB/s eta 0:00:01\r\u001b[K     |████████████████████████        | 112 kB 7.0 MB/s eta 0:00:01\r\u001b[K     |██████████████████████████▎     | 122 kB 7.0 MB/s eta 0:00:01\r\u001b[K     |████████████████████████████▌   | 133 kB 7.0 MB/s eta 0:00:01\r\u001b[K     |██████████████████████████████▋ | 143 kB 7.0 MB/s eta 0:00:01\r\u001b[K     |████████████████████████████████| 149 kB 7.0 MB/s \n",
            "\u001b[?25hInstalling collected packages: xlsxwriter\n",
            "Successfully installed xlsxwriter-1.4.4\n"
          ],
          "name": "stdout"
        }
      ]
    },
    {
      "cell_type": "markdown",
      "metadata": {
        "id": "7uMQnybVPXAe"
      },
      "source": [
        "* workbook\n",
        "* worksheet\n",
        "* cell"
      ]
    },
    {
      "cell_type": "code",
      "metadata": {
        "id": "guNJUKRSPu4l"
      },
      "source": [
        "import xlsxwriter"
      ],
      "execution_count": null,
      "outputs": []
    },
    {
      "cell_type": "code",
      "metadata": {
        "id": "qTIDwWrXP7CO"
      },
      "source": [
        "#엑셀 파일 생성하기(test.xlsx로 생성)\n",
        "workbook = xlsxwriter.Workbook('test.xlsx')\n",
        "\n",
        "#파일 안에 워크 시트 생성하기(test이름으로 생성, 여러개의 워크시트 만들 수 있음)\n",
        "worksheet = workbook.add_worksheet('test')\n",
        "\n",
        "#워크 시트 안에 문자열 값을 넣습니다.\n",
        "worksheet.write('A1', 'A')\n",
        "worksheet.write('B1', 'B')\n",
        "worksheet.write('C1', 'C')\n",
        "worksheet.write('D1', 'D')\n",
        "worksheet.write('E1', 'E')\n",
        "\n",
        "#워크 시트 안에 숫자 값을 넣습니다.\n",
        "worksheet.write('A2', 1)\n",
        "worksheet.write('B2', 2)\n",
        "worksheet.write('C2', 3)\n",
        "worksheet.write('D2', 4)\n",
        "worksheet.write('E2', 5)\n",
        "\n",
        "#워크 시트 안에 숫자 값을 넣습니다.\n",
        "worksheet.write(2, 0, 1)\n",
        "worksheet.write(2, 1, 2)\n",
        "worksheet.write(2, 2, 3)\n",
        "worksheet.write(2, 3, 4)\n",
        "worksheet.write(2, 4, 5)\n",
        "\n",
        "workbook.close()"
      ],
      "execution_count": null,
      "outputs": []
    },
    {
      "cell_type": "code",
      "metadata": {
        "id": "ZBJiiwN8SjpJ"
      },
      "source": [
        "#엑셀 파일 생성하기(test.xlsx로 생성)\n",
        "workbook = xlsxwriter.Workbook('test.xlsx')\n",
        "\n",
        "#파일 안에 워크 시트 생성하기(test이름으로 생성, 여러개의 워크시트 만들 수 있음)\n",
        "worksheet = workbook.add_worksheet('test')\n",
        "\n",
        "#워크 시트 안에 숫자 값을 넣습니다.\n",
        "for i in range(10):\n",
        "    # worksheet.write(행, 열, 값)\n",
        "    worksheet.write(i, 0, i + 1)\n",
        "    worksheet.write(i, 1, 60)\n",
        "\n",
        "workbook.close()"
      ],
      "execution_count": null,
      "outputs": []
    },
    {
      "cell_type": "code",
      "metadata": {
        "id": "rMLa-0pNU6Aw"
      },
      "source": [
        "#엑셀 파일 생성하기(test.xlsx로 생성)\n",
        "workbook = xlsxwriter.Workbook('test.xlsx')\n",
        "\n",
        "#파일 안에 워크 시트 생성하기(test이름으로 생성, 여러개의 워크시트 만들 수 있음)\n",
        "worksheet = workbook.add_worksheet('test')\n",
        "\n",
        "#워크 시트 안에 숫자 값을 넣습니다.\n",
        "# worksheet.write(행, 열, 값)\n",
        "worksheet.write('A1', 1)\n",
        "worksheet.write('B1', 2)\n",
        "worksheet.write('A2', '=A1+B1')\n",
        "worksheet.write('B2', '=A1-B1')\n",
        "worksheet.write('C2', '=A1/B1')\n",
        "worksheet.write('D2', '=A1*B1')\n",
        "\n",
        "workbook.close()"
      ],
      "execution_count": null,
      "outputs": []
    },
    {
      "cell_type": "code",
      "metadata": {
        "id": "2R529BjRV5D-"
      },
      "source": [
        "#엑셀 파일 생성하기(test.xlsx로 생성)\n",
        "workbook = xlsxwriter.Workbook('test.xlsx')\n",
        "\n",
        "#파일 안에 워크 시트 생성하기(test이름으로 생성, 여러개의 워크시트 만들 수 있음)\n",
        "worksheet = workbook.add_worksheet('test')\n",
        "\n",
        "#워크 시트 안에 숫자 값을 넣습니다.\n",
        "# worksheet.write(행, 열, 값)\n",
        "worksheet.write('A1', 1)\n",
        "worksheet.write('B1', 2)\n",
        "worksheet.write('C1', 3)\n",
        "worksheet.write('D1', 4)\n",
        "worksheet.write('E1', 5)\n",
        "worksheet.write('A2', '=SUM(A1:E1)')\n",
        "worksheet.write('B2', '=AVERAGE(A1:E1)')\n",
        "\n",
        "workbook.close()"
      ],
      "execution_count": null,
      "outputs": []
    },
    {
      "cell_type": "markdown",
      "metadata": {
        "id": "lJlfRHjgFxZa"
      },
      "source": [
        "## 이력서 분석"
      ]
    },
    {
      "cell_type": "code",
      "metadata": {
        "colab": {
          "base_uri": "https://localhost:8080/"
        },
        "id": "O6upnXQ_FSh4",
        "outputId": "8e70f199-bd24-4606-85b1-876af6de9f58"
      },
      "source": [
        "# MS word 등을 지원\n",
        "# https://olefile.readthedocs.io/en/latest/Howto.html\n",
        "# 우리 수업에서는 사용하지 않습니다.\n",
        "!pip install olefile"
      ],
      "execution_count": null,
      "outputs": [
        {
          "output_type": "stream",
          "text": [
            "Collecting olefile\n",
            "  Downloading olefile-0.46.zip (112 kB)\n",
            "\u001b[?25l\r\u001b[K     |███                             | 10 kB 19.4 MB/s eta 0:00:01\r\u001b[K     |█████▉                          | 20 kB 23.3 MB/s eta 0:00:01\r\u001b[K     |████████▊                       | 30 kB 26.1 MB/s eta 0:00:01\r\u001b[K     |███████████▊                    | 40 kB 27.3 MB/s eta 0:00:01\r\u001b[K     |██████████████▋                 | 51 kB 29.1 MB/s eta 0:00:01\r\u001b[K     |█████████████████▌              | 61 kB 31.7 MB/s eta 0:00:01\r\u001b[K     |████████████████████▍           | 71 kB 31.2 MB/s eta 0:00:01\r\u001b[K     |███████████████████████▍        | 81 kB 33.0 MB/s eta 0:00:01\r\u001b[K     |██████████████████████████▎     | 92 kB 34.9 MB/s eta 0:00:01\r\u001b[K     |█████████████████████████████▏  | 102 kB 36.9 MB/s eta 0:00:01\r\u001b[K     |████████████████████████████████| 112 kB 36.9 MB/s \n",
            "\u001b[?25hBuilding wheels for collected packages: olefile\n",
            "  Building wheel for olefile (setup.py) ... \u001b[?25l\u001b[?25hdone\n",
            "  Created wheel for olefile: filename=olefile-0.46-py2.py3-none-any.whl size=35431 sha256=2ff2ed6a863189da0f3466dcbaa6822dc1394883808091af3bd58c58669bae25\n",
            "  Stored in directory: /root/.cache/pip/wheels/84/53/e6/37d90ccb3ad1a3ca98d2b17107e9fda401a7c541ea1eb6a65a\n",
            "Successfully built olefile\n",
            "Installing collected packages: olefile\n",
            "Successfully installed olefile-0.46\n"
          ],
          "name": "stdout"
        }
      ]
    },
    {
      "cell_type": "code",
      "metadata": {
        "colab": {
          "base_uri": "https://localhost:8080/"
        },
        "id": "ZMYT_zPZF9rb",
        "outputId": "687caa0e-73c9-40de-f97c-d708fab36af6"
      },
      "source": [
        "!pip install ole-py"
      ],
      "execution_count": null,
      "outputs": [
        {
          "output_type": "stream",
          "text": [
            "Collecting ole-py\n",
            "  Downloading ole_py-1.1.2-py3-none-any.whl (7.5 kB)\n",
            "Installing collected packages: ole-py\n",
            "Successfully installed ole-py-1.1.2\n"
          ],
          "name": "stdout"
        }
      ]
    },
    {
      "cell_type": "code",
      "metadata": {
        "id": "43UofWGkHR1U"
      },
      "source": [
        "import ole"
      ],
      "execution_count": null,
      "outputs": []
    },
    {
      "cell_type": "code",
      "metadata": {
        "colab": {
          "base_uri": "https://localhost:8080/"
        },
        "id": "XV3Ke4AnH_My",
        "outputId": "f2ff6990-bb0f-41de-94ad-bb035aa780e8"
      },
      "source": [
        "with ole.open('이력서_1.hwp') as f:\n",
        "    print(f.list_streams())\n",
        "    print('=' * 10)\n",
        "    data = f.get_stream('PrvText').read().decode('utf-16le')\n",
        "    print(data)"
      ],
      "execution_count": null,
      "outputs": [
        {
          "output_type": "stream",
          "text": [
            "('FileHeader', 'DocInfo', '\\x05HwpSummaryInformation', 'PrvImage', 'PrvText', 'Scripts/JScriptVersion', 'Scripts/DefaultJScript', 'DocOptions/_LinkDoc', 'BodyText/Section0')\n",
            "==========\n",
            "이  력  서\r\n",
            "<인적사항><성          명><홍길동><생  년  월  일><1993년 8월 13일><현    주    소><제주특별자치도 제주시><연    락    처><010-2233-1478><이    메    일><ab8ab@naver.com>\r\n",
            "\r\n",
            "<학력사항><학교명><전공><성적><졸업구분><소재지><건국대학교><컴퓨터공학과><4.1/4.5><졸업><서울>\r\n",
            "\r\n",
            "<자격면허><자격면허증명><시행기관><취득년월><TOEIC><점수><정보처리기사><한국산업인력공단><19.05.22><725점><한국사능력검정 1급><국사편찬위원회><19.08.23>\r\n",
            "\r\n",
            "<교육 / 활동 / 수상><기간><활동 내용><병역사항><군필여부><군필><19.11 ~ 20.03><빅데이터 전략 마에스트로><군별><육군><><><계급><병장><><><복무기간><15.02~16.11>\r\n",
            "\r\n",
            "<컴퓨터 언어   능력 (상/중/하)><R><Python><Javascript><SQL><HTML/CSS><상><중><중><하><하>\r\n",
            "\r\n",
            "위의 내용은 사실과 틀림없음을 확인합니다.\r\n",
            "\r\n",
            "2020년 5월 11일 성명 : 홍길동\r\n",
            "\n"
          ],
          "name": "stdout"
        }
      ]
    },
    {
      "cell_type": "code",
      "metadata": {
        "colab": {
          "base_uri": "https://localhost:8080/"
        },
        "id": "2yC7dAJBI9S2",
        "outputId": "9a3c344d-8237-4a9f-eb1e-0efe05f2c6a8"
      },
      "source": [
        "text = 'lee!ho!jun'\n",
        "text.split('!')"
      ],
      "execution_count": null,
      "outputs": [
        {
          "output_type": "execute_result",
          "data": {
            "text/plain": [
              "['lee!h', 'o!jun']"
            ]
          },
          "metadata": {
            "tags": []
          },
          "execution_count": 6
        }
      ]
    },
    {
      "cell_type": "code",
      "metadata": {
        "colab": {
          "base_uri": "https://localhost:8080/"
        },
        "id": "7accoXpNJRkk",
        "outputId": "ce8011ed-940d-435a-8b71-5e6f817aa950"
      },
      "source": [
        "data.split('><')"
      ],
      "execution_count": null,
      "outputs": [
        {
          "output_type": "execute_result",
          "data": {
            "text/plain": [
              "['이  력  서\\r\\n<인적사항',\n",
              " '성          명',\n",
              " '홍길동',\n",
              " '생  년  월  일',\n",
              " '1993년 8월 13일',\n",
              " '현    주    소',\n",
              " '제주특별자치도 제주시',\n",
              " '연    락    처',\n",
              " '010-2233-1478',\n",
              " '이    메    일',\n",
              " 'ab8ab@naver.com>\\r\\n\\r\\n<학력사항',\n",
              " '학교명',\n",
              " '전공',\n",
              " '성적',\n",
              " '졸업구분',\n",
              " '소재지',\n",
              " '건국대학교',\n",
              " '컴퓨터공학과',\n",
              " '4.1/4.5',\n",
              " '졸업',\n",
              " '서울>\\r\\n\\r\\n<자격면허',\n",
              " '자격면허증명',\n",
              " '시행기관',\n",
              " '취득년월',\n",
              " 'TOEIC',\n",
              " '점수',\n",
              " '정보처리기사',\n",
              " '한국산업인력공단',\n",
              " '19.05.22',\n",
              " '725점',\n",
              " '한국사능력검정 1급',\n",
              " '국사편찬위원회',\n",
              " '19.08.23>\\r\\n\\r\\n<교육 / 활동 / 수상',\n",
              " '기간',\n",
              " '활동 내용',\n",
              " '병역사항',\n",
              " '군필여부',\n",
              " '군필',\n",
              " '19.11 ~ 20.03',\n",
              " '빅데이터 전략 마에스트로',\n",
              " '군별',\n",
              " '육군',\n",
              " '',\n",
              " '',\n",
              " '계급',\n",
              " '병장',\n",
              " '',\n",
              " '',\n",
              " '복무기간',\n",
              " '15.02~16.11>\\r\\n\\r\\n<컴퓨터 언어   능력 (상/중/하)',\n",
              " 'R',\n",
              " 'Python',\n",
              " 'Javascript',\n",
              " 'SQL',\n",
              " 'HTML/CSS',\n",
              " '상',\n",
              " '중',\n",
              " '중',\n",
              " '하',\n",
              " '하>\\r\\n\\r\\n위의 내용은 사실과 틀림없음을 확인합니다.\\r\\n\\r\\n2020년 5월 11일 성명 : 홍길동\\r\\n']"
            ]
          },
          "metadata": {
            "tags": []
          },
          "execution_count": 7
        }
      ]
    },
    {
      "cell_type": "code",
      "metadata": {
        "colab": {
          "base_uri": "https://localhost:8080/"
        },
        "id": "7SIhnbX8JmlF",
        "outputId": "94ae1556-795c-40bd-f5da-a606bcec8e35"
      },
      "source": [
        "splitdata = data.split('><')\n",
        "splitdata"
      ],
      "execution_count": null,
      "outputs": [
        {
          "output_type": "execute_result",
          "data": {
            "text/plain": [
              "['이  력  서\\r\\n<인적사항',\n",
              " '성          명',\n",
              " '홍길동',\n",
              " '생  년  월  일',\n",
              " '1993년 8월 13일',\n",
              " '현    주    소',\n",
              " '제주특별자치도 제주시',\n",
              " '연    락    처',\n",
              " '010-2233-1478',\n",
              " '이    메    일',\n",
              " 'ab8ab@naver.com>\\r\\n\\r\\n<학력사항',\n",
              " '학교명',\n",
              " '전공',\n",
              " '성적',\n",
              " '졸업구분',\n",
              " '소재지',\n",
              " '건국대학교',\n",
              " '컴퓨터공학과',\n",
              " '4.1/4.5',\n",
              " '졸업',\n",
              " '서울>\\r\\n\\r\\n<자격면허',\n",
              " '자격면허증명',\n",
              " '시행기관',\n",
              " '취득년월',\n",
              " 'TOEIC',\n",
              " '점수',\n",
              " '정보처리기사',\n",
              " '한국산업인력공단',\n",
              " '19.05.22',\n",
              " '725점',\n",
              " '한국사능력검정 1급',\n",
              " '국사편찬위원회',\n",
              " '19.08.23>\\r\\n\\r\\n<교육 / 활동 / 수상',\n",
              " '기간',\n",
              " '활동 내용',\n",
              " '병역사항',\n",
              " '군필여부',\n",
              " '군필',\n",
              " '19.11 ~ 20.03',\n",
              " '빅데이터 전략 마에스트로',\n",
              " '군별',\n",
              " '육군',\n",
              " '',\n",
              " '',\n",
              " '계급',\n",
              " '병장',\n",
              " '',\n",
              " '',\n",
              " '복무기간',\n",
              " '15.02~16.11>\\r\\n\\r\\n<컴퓨터 언어   능력 (상/중/하)',\n",
              " 'R',\n",
              " 'Python',\n",
              " 'Javascript',\n",
              " 'SQL',\n",
              " 'HTML/CSS',\n",
              " '상',\n",
              " '중',\n",
              " '중',\n",
              " '하',\n",
              " '하>\\r\\n\\r\\n위의 내용은 사실과 틀림없음을 확인합니다.\\r\\n\\r\\n2020년 5월 11일 성명 : 홍길동\\r\\n']"
            ]
          },
          "metadata": {
            "tags": []
          },
          "execution_count": 8
        }
      ]
    },
    {
      "cell_type": "code",
      "metadata": {
        "colab": {
          "base_uri": "https://localhost:8080/",
          "height": 35
        },
        "id": "o3QW7KHEJ2Yg",
        "outputId": "91b20b6a-810b-4641-c0c0-6ff12b73b1b7"
      },
      "source": [
        "splitdata[2]"
      ],
      "execution_count": null,
      "outputs": [
        {
          "output_type": "execute_result",
          "data": {
            "application/vnd.google.colaboratory.intrinsic+json": {
              "type": "string"
            },
            "text/plain": [
              "'홍길동'"
            ]
          },
          "metadata": {
            "tags": []
          },
          "execution_count": 9
        }
      ]
    },
    {
      "cell_type": "code",
      "metadata": {
        "colab": {
          "base_uri": "https://localhost:8080/",
          "height": 35
        },
        "id": "0XYNqiMMKHvI",
        "outputId": "64b17653-d4b2-4560-dd2a-9b52dfe05dd0"
      },
      "source": [
        "splitdata[1]"
      ],
      "execution_count": null,
      "outputs": [
        {
          "output_type": "execute_result",
          "data": {
            "application/vnd.google.colaboratory.intrinsic+json": {
              "type": "string"
            },
            "text/plain": [
              "'성          명'"
            ]
          },
          "metadata": {
            "tags": []
          },
          "execution_count": 10
        }
      ]
    },
    {
      "cell_type": "code",
      "metadata": {
        "colab": {
          "base_uri": "https://localhost:8080/"
        },
        "id": "lsecVMkCKBiV",
        "outputId": "3579a8b0-5cb3-416e-a00f-795c311c5883"
      },
      "source": [
        "splitdata.index('성          명')"
      ],
      "execution_count": null,
      "outputs": [
        {
          "output_type": "execute_result",
          "data": {
            "text/plain": [
              "1"
            ]
          },
          "metadata": {
            "tags": []
          },
          "execution_count": 11
        }
      ]
    },
    {
      "cell_type": "code",
      "metadata": {
        "colab": {
          "base_uri": "https://localhost:8080/"
        },
        "id": "t_LHyC3eKgvE",
        "outputId": "dc0724de-59b2-4177-dfca-7fc93f161c82"
      },
      "source": [
        "splitdata"
      ],
      "execution_count": null,
      "outputs": [
        {
          "output_type": "execute_result",
          "data": {
            "text/plain": [
              "['이  력  서\\r\\n<인적사항',\n",
              " '성          명',\n",
              " '홍길동',\n",
              " '생  년  월  일',\n",
              " '1993년 8월 13일',\n",
              " '현    주    소',\n",
              " '제주특별자치도 제주시',\n",
              " '연    락    처',\n",
              " '010-2233-1478',\n",
              " '이    메    일',\n",
              " 'ab8ab@naver.com>\\r\\n\\r\\n<학력사항',\n",
              " '학교명',\n",
              " '전공',\n",
              " '성적',\n",
              " '졸업구분',\n",
              " '소재지',\n",
              " '건국대학교',\n",
              " '컴퓨터공학과',\n",
              " '4.1/4.5',\n",
              " '졸업',\n",
              " '서울>\\r\\n\\r\\n<자격면허',\n",
              " '자격면허증명',\n",
              " '시행기관',\n",
              " '취득년월',\n",
              " 'TOEIC',\n",
              " '점수',\n",
              " '정보처리기사',\n",
              " '한국산업인력공단',\n",
              " '19.05.22',\n",
              " '725점',\n",
              " '한국사능력검정 1급',\n",
              " '국사편찬위원회',\n",
              " '19.08.23>\\r\\n\\r\\n<교육 / 활동 / 수상',\n",
              " '기간',\n",
              " '활동 내용',\n",
              " '병역사항',\n",
              " '군필여부',\n",
              " '군필',\n",
              " '19.11 ~ 20.03',\n",
              " '빅데이터 전략 마에스트로',\n",
              " '군별',\n",
              " '육군',\n",
              " '',\n",
              " '',\n",
              " '계급',\n",
              " '병장',\n",
              " '',\n",
              " '',\n",
              " '복무기간',\n",
              " '15.02~16.11>\\r\\n\\r\\n<컴퓨터 언어   능력 (상/중/하)',\n",
              " 'R',\n",
              " 'Python',\n",
              " 'Javascript',\n",
              " 'SQL',\n",
              " 'HTML/CSS',\n",
              " '상',\n",
              " '중',\n",
              " '중',\n",
              " '하',\n",
              " '하>\\r\\n\\r\\n위의 내용은 사실과 틀림없음을 확인합니다.\\r\\n\\r\\n2020년 5월 11일 성명 : 홍길동\\r\\n']"
            ]
          },
          "metadata": {
            "tags": []
          },
          "execution_count": 13
        }
      ]
    },
    {
      "cell_type": "code",
      "metadata": {
        "id": "2kC_kmB_KasP"
      },
      "source": [
        "개인정보 = [\n",
        "    '성          명',\n",
        "    '생  년  월  일',\n",
        "    '현    주    소',\n",
        "    '연    락    처',\n",
        "    '이    메    일'\n",
        "]"
      ],
      "execution_count": null,
      "outputs": []
    },
    {
      "cell_type": "code",
      "metadata": {
        "colab": {
          "base_uri": "https://localhost:8080/"
        },
        "id": "J_ZbKLoTKdW3",
        "outputId": "10039ffb-4a73-4f8e-b8e7-d8eb3963c46e"
      },
      "source": [
        "결과 = []\n",
        "for i in range(len(splitdata)):\n",
        "    for j in range(len(개인정보)):\n",
        "        if splitdata[i] == 개인정보[j]:\n",
        "            결과.append(splitdata[i + 1])\n",
        "결과"
      ],
      "execution_count": null,
      "outputs": [
        {
          "output_type": "execute_result",
          "data": {
            "text/plain": [
              "['홍길동',\n",
              " '1993년 8월 13일',\n",
              " '제주특별자치도 제주시',\n",
              " '010-2233-1478',\n",
              " 'ab8ab@naver.com>\\r\\n\\r\\n<학력사항']"
            ]
          },
          "metadata": {
            "tags": []
          },
          "execution_count": 36
        }
      ]
    },
    {
      "cell_type": "code",
      "metadata": {
        "colab": {
          "base_uri": "https://localhost:8080/"
        },
        "id": "7jMJ-pn_Nq_g",
        "outputId": "190084d6-8a9e-4851-90cb-ebbe1525229c"
      },
      "source": [
        "결과[-1] = 결과[-1].split('>')[0]\n",
        "결과"
      ],
      "execution_count": null,
      "outputs": [
        {
          "output_type": "execute_result",
          "data": {
            "text/plain": [
              "['홍길동', '1993년 8월 13일', '제주특별자치도 제주시', '010-2233-1478', 'ab8ab@naver.com']"
            ]
          },
          "metadata": {
            "tags": []
          },
          "execution_count": 37
        }
      ]
    },
    {
      "cell_type": "code",
      "metadata": {
        "id": "HIjsvx-MRN4s"
      },
      "source": [
        "학력사항 = [\n",
        "    '학교명',\n",
        "    '전공',\n",
        "    '성적',\n",
        "    '졸업구분',\n",
        "    '소재지'\n",
        "]"
      ],
      "execution_count": null,
      "outputs": []
    },
    {
      "cell_type": "code",
      "metadata": {
        "colab": {
          "base_uri": "https://localhost:8080/"
        },
        "id": "-7Y0rZxhRiwL",
        "outputId": "0031b5a0-77c5-465d-a7d1-7ca1acb411b9"
      },
      "source": [
        "학력사항결과 = []\n",
        "for i in range(len(splitdata)):\n",
        "    for j in range(len(학력사항)):\n",
        "        if splitdata[i] == 학력사항[j]:\n",
        "            학력사항결과.append(splitdata[i + 5])\n",
        "학력사항결과"
      ],
      "execution_count": null,
      "outputs": [
        {
          "output_type": "execute_result",
          "data": {
            "text/plain": [
              "['건국대학교', '컴퓨터공학과', '4.1/4.5', '졸업', '서울>\\r\\n\\r\\n<자격면허']"
            ]
          },
          "metadata": {
            "tags": []
          },
          "execution_count": 42
        }
      ]
    },
    {
      "cell_type": "code",
      "metadata": {
        "colab": {
          "base_uri": "https://localhost:8080/"
        },
        "id": "IO6fnIJYT3SQ",
        "outputId": "54c0cd86-ab05-42ef-8226-2c050eda1579"
      },
      "source": [
        "학력사항결과[-1] = 학력사항결과[-1].split('>')[0]\n",
        "학력사항결과"
      ],
      "execution_count": null,
      "outputs": [
        {
          "output_type": "execute_result",
          "data": {
            "text/plain": [
              "['건국대학교', '컴퓨터공학과', '4.1/4.5', '졸업', '서울']"
            ]
          },
          "metadata": {
            "tags": []
          },
          "execution_count": 44
        }
      ]
    },
    {
      "cell_type": "code",
      "metadata": {
        "colab": {
          "base_uri": "https://localhost:8080/"
        },
        "id": "KDvKROsFTFcb",
        "outputId": "b191bab6-85d2-40d5-9679-d11bae8696da"
      },
      "source": [
        "index = 개인정보 + 학력사항\n",
        "index"
      ],
      "execution_count": null,
      "outputs": [
        {
          "output_type": "execute_result",
          "data": {
            "text/plain": [
              "['성          명',\n",
              " '생  년  월  일',\n",
              " '현    주    소',\n",
              " '연    락    처',\n",
              " '이    메    일',\n",
              " '학교명',\n",
              " '전공',\n",
              " '성적',\n",
              " '졸업구분',\n",
              " '소재지']"
            ]
          },
          "metadata": {
            "tags": []
          },
          "execution_count": 40
        }
      ]
    },
    {
      "cell_type": "code",
      "metadata": {
        "colab": {
          "base_uri": "https://localhost:8080/"
        },
        "id": "NWfIZtc9TUmH",
        "outputId": "8cb12437-3da5-4213-a28d-9d3d33e6406a"
      },
      "source": [
        "result = 결과 + 학력사항결과\n",
        "result"
      ],
      "execution_count": null,
      "outputs": [
        {
          "output_type": "execute_result",
          "data": {
            "text/plain": [
              "['홍길동',\n",
              " '1993년 8월 13일',\n",
              " '제주특별자치도 제주시',\n",
              " '010-2233-1478',\n",
              " 'ab8ab@naver.com',\n",
              " '건국대학교',\n",
              " '컴퓨터공학과',\n",
              " '4.1/4.5',\n",
              " '졸업',\n",
              " '서울']"
            ]
          },
          "metadata": {
            "tags": []
          },
          "execution_count": 45
        }
      ]
    },
    {
      "cell_type": "code",
      "metadata": {
        "id": "OXsnACDNU9mK"
      },
      "source": [
        "!pip install xlsxwriter"
      ],
      "execution_count": null,
      "outputs": []
    },
    {
      "cell_type": "code",
      "metadata": {
        "id": "YwK0CriFUG33"
      },
      "source": [
        "import xlsxwriter\n",
        "\n",
        "#엑셀 파일 생성하기(test.xlsx로 생성)\n",
        "workbook = xlsxwriter.Workbook('test.xlsx')\n",
        "\n",
        "#파일 안에 워크 시트 생성하기\n",
        "worksheet = workbook.add_worksheet('test')\n",
        "\n",
        "# worksheet.write(2, 0, 1)\n",
        "worksheet.write(0, 0, index[0])\n",
        "worksheet.write(0, 1, index[1])\n",
        "worksheet.write(0, 2, index[2])\n",
        "worksheet.write(0, 3, index[3])\n",
        "\n",
        "workbook.close()"
      ],
      "execution_count": null,
      "outputs": []
    },
    {
      "cell_type": "code",
      "metadata": {
        "id": "NDme3M7yWkn9"
      },
      "source": [
        "import xlsxwriter\n",
        "\n",
        "#엑셀 파일 생성하기(test.xlsx로 생성)\n",
        "workbook = xlsxwriter.Workbook('test.xlsx')\n",
        "\n",
        "#파일 안에 워크 시트 생성하기\n",
        "worksheet = workbook.add_worksheet('test')\n",
        "\n",
        "for i in range(10):\n",
        "    worksheet.write(0, i, index[i].replace(' ', ''))\n",
        "\n",
        "for j in range(10):\n",
        "    worksheet.write(1, j, result[j])\n",
        "\n",
        "workbook.close()"
      ],
      "execution_count": null,
      "outputs": []
    },
    {
      "cell_type": "code",
      "metadata": {
        "colab": {
          "base_uri": "https://localhost:8080/",
          "height": 35
        },
        "id": "jjqwJYXjW-Z9",
        "outputId": "29f94606-d9de-4e5c-f372-b7bbeab6f8e0"
      },
      "source": [
        "'he!!llo wor!!!ld'.replace('!', '@')"
      ],
      "execution_count": null,
      "outputs": [
        {
          "output_type": "execute_result",
          "data": {
            "application/vnd.google.colaboratory.intrinsic+json": {
              "type": "string"
            },
            "text/plain": [
              "'he@@llo wor@@@ld'"
            ]
          },
          "metadata": {
            "tags": []
          },
          "execution_count": 49
        }
      ]
    },
    {
      "cell_type": "markdown",
      "metadata": {
        "id": "SvL0akU-Yx2q"
      },
      "source": [
        "## glob"
      ]
    },
    {
      "cell_type": "code",
      "metadata": {
        "colab": {
          "base_uri": "https://localhost:8080/"
        },
        "id": "QRxE7C2xYqSG",
        "outputId": "0ffd8f3b-31d4-4fa7-efcf-748572e73f7c"
      },
      "source": [
        "import glob\n",
        "\n",
        "path = ('./*.hwp')\n",
        "for filename in glob.glob(path):\n",
        "    print(filename)"
      ],
      "execution_count": null,
      "outputs": [
        {
          "output_type": "stream",
          "text": [
            "./이력서_51.hwp\n",
            "./이력서_90.hwp\n",
            "./이력서_12.hwp\n",
            "./이력서_70.hwp\n",
            "./이력서_13.hwp\n",
            "./이력서_47.hwp\n",
            "./이력서_48.hwp\n",
            "./이력서_45.hwp\n",
            "./이력서_5.hwp\n",
            "./이력서_34.hwp\n",
            "./이력서_40.hwp\n",
            "./이력서_84.hwp\n",
            "./이력서_18.hwp\n",
            "./이력서_10.hwp\n",
            "./이력서_71.hwp\n",
            "./이력서_43.hwp\n",
            "./이력서_42.hwp\n",
            "./이력서_20.hwp\n",
            "./이력서_73.hwp\n",
            "./이력서_46.hwp\n",
            "./이력서_11.hwp\n",
            "./이력서_60.hwp\n",
            "./이력서_23.hwp\n",
            "./이력서_94.hwp\n",
            "./이력서_37.hwp\n",
            "./이력서_83.hwp\n",
            "./이력서_92.hwp\n",
            "./이력서_97.hwp\n",
            "./이력서_36.hwp\n",
            "./이력서_19.hwp\n",
            "./이력서_39.hwp\n",
            "./이력서_22.hwp\n",
            "./이력서_85.hwp\n",
            "./이력서_76.hwp\n",
            "./이력서_32.hwp\n",
            "./이력서_28.hwp\n",
            "./이력서_44.hwp\n",
            "./이력서_99.hwp\n",
            "./이력서_68.hwp\n",
            "./이력서_82.hwp\n",
            "./이력서_53.hwp\n",
            "./이력서_33.hwp\n",
            "./이력서_31.hwp\n",
            "./이력서_24.hwp\n",
            "./이력서_26.hwp\n",
            "./이력서_80.hwp\n",
            "./이력서_67.hwp\n",
            "./이력서_1.hwp\n",
            "./이력서_16.hwp\n",
            "./이력서_75.hwp\n",
            "./이력서_17.hwp\n",
            "./이력서_87.hwp\n",
            "./이력서_30.hwp\n",
            "./이력서_65.hwp\n",
            "./이력서_54.hwp\n",
            "./이력서_79.hwp\n",
            "./이력서_49.hwp\n",
            "./이력서_57.hwp\n",
            "./이력서_61.hwp\n",
            "./이력서_3.hwp\n",
            "./이력서_58.hwp\n",
            "./이력서_93.hwp\n",
            "./이력서_27.hwp\n",
            "./이력서_89.hwp\n",
            "./이력서_52.hwp\n",
            "./이력서_72.hwp\n",
            "./이력서_25.hwp\n",
            "./이력서_55.hwp\n",
            "./이력서_50.hwp\n",
            "./이력서_9.hwp\n",
            "./이력서_64.hwp\n",
            "./이력서_2.hwp\n",
            "./이력서_98.hwp\n",
            "./이력서_7.hwp\n",
            "./이력서_81.hwp\n",
            "./이력서_4.hwp\n",
            "./이력서_95.hwp\n",
            "./이력서_86.hwp\n",
            "./이력서_14.hwp\n",
            "./이력서_6.hwp\n",
            "./이력서_8.hwp\n",
            "./이력서_100.hwp\n",
            "./이력서_15.hwp\n",
            "./이력서_59.hwp\n",
            "./이력서_62.hwp\n",
            "./이력서_35.hwp\n",
            "./이력서_88.hwp\n",
            "./이력서_69.hwp\n",
            "./이력서_21.hwp\n",
            "./이력서_77.hwp\n",
            "./이력서_74.hwp\n",
            "./이력서_38.hwp\n",
            "./이력서_96.hwp\n",
            "./이력서_63.hwp\n",
            "./이력서_66.hwp\n",
            "./이력서_29.hwp\n",
            "./이력서_56.hwp\n",
            "./이력서_78.hwp\n",
            "./이력서_41.hwp\n",
            "./이력서_91.hwp\n"
          ],
          "name": "stdout"
        }
      ]
    },
    {
      "cell_type": "code",
      "metadata": {
        "id": "k__Ir82DlGEv"
      },
      "source": [
        "filelist = !ls"
      ],
      "execution_count": 1,
      "outputs": []
    },
    {
      "cell_type": "code",
      "metadata": {
        "colab": {
          "base_uri": "https://localhost:8080/"
        },
        "id": "6trR5pN0lKNT",
        "outputId": "688df535-7180-4e18-abd4-4576e7262313"
      },
      "source": [
        "filelist"
      ],
      "execution_count": 2,
      "outputs": [
        {
          "output_type": "execute_result",
          "data": {
            "text/plain": [
              "['sample_data']"
            ]
          },
          "metadata": {
            "tags": []
          },
          "execution_count": 2
        }
      ]
    }
  ]
}